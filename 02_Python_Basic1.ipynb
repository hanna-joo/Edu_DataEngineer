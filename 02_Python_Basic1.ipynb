{
 "cells": [
  {
   "cell_type": "markdown",
   "id": "c02b2868",
   "metadata": {},
   "source": [
    "# Python 시작하기\n",
    "- 기간 : 2022.05.10"
   ]
  },
  {
   "cell_type": "markdown",
   "id": "cd5706fa",
   "metadata": {},
   "source": [
    "## Python 설치\n",
    "cmd 창에서 Python 기반 프로그램을 구동시키기 위해서 필요하다\n",
    "1. [Python 다운로드](https://www.python.orgdownloads)\n",
    "    - cmd 창에서 실행되지 않는 경우 microsoft store 에서 설치한다"
   ]
  },
  {
   "cell_type": "markdown",
   "id": "99969b05",
   "metadata": {},
   "source": [
    "## Anaconda 설치\n",
    "여러 모듈을 제공해주기 때문에 필요하다\n",
    "1. [Anaconda 다운로드](httpswww.anaconda.com)"
   ]
  },
  {
   "cell_type": "markdown",
   "id": "e9bf1a43",
   "metadata": {},
   "source": [
    "## Python 활용 방법\n",
    "Python 활용 방법은 인터프리터 방식과 컴파일링 방식이 있다\n",
    "1. 인터프리터 방식\n",
    "- [Window] + [R] > cmd 입력 > cmd 창 실행\n",
    "- 실행된 cmd 창 안에서 python 명령어 입력 > python 인터프리터 실행\n",
    "- Python 코드 작성\n",
    "2. 컴파일링 방식\n",
    "- 메모장/sublime text 에디터 실행\n",
    "- 에디터에 Python 코드로 입력\n",
    "- cmd/terminal 에 실행되는 위치에 확장자 .py로 파일 저장\n",
    "- Python 실행\n",
    "\n",
    "~~~python\n",
    "python file-path file-name\n",
    "~~~"
   ]
  },
  {
   "cell_type": "markdown",
   "id": "bafc9362",
   "metadata": {},
   "source": [
    "## Jupyter notebook 실행\n",
    "주피터 노트북을 실행하는 방법은 3가지가 있다\n",
    "1. Window 에서 검색해서 실행\n",
    "2. Anaconda3 폴더에서 실행\n",
    "- 주피터 노트북 실행 중에는 cmd/terminal 을 끄면 실행이 중단되기 때문에 주의한다"
   ]
  },
  {
   "cell_type": "markdown",
   "id": "6c0276b8",
   "metadata": {},
   "source": [
    "## Jupyter notebook 단축키\n",
    "다음은 Jupyter notebook 에서 자주 사용되는 단축키이로 명령 상태에서 사용 가능한 단축키이다  \n",
    "명령상태란 코드를 편집하고 있지 않은 상태로 커서가 깜빡거리지 않는 상태이다"
   ]
  },
  {
   "cell_type": "markdown",
   "id": "6c9e726d",
   "metadata": {},
   "source": [
    "- 편집상태 : Enter \n",
    "- 명령상태 : Esc<br> \n",
    " - a : 셀 추가<br>\n",
    " - dd : 선택된 셀 제거<br>\n",
    " - x : 잘라내기<br>\n",
    " - c : 복사<br>\n",
    " - v : 붙여넣기<br>\n",
    " - 키보드 위 아래키 : 셀 변경<br>\n",
    " - ctrl + enter : 현재 셀 실행<br>\n",
    " - shift + enter : 현재 셀 실행 후 다음 셀로 이동\n",
    " - 실행시킨 셀이 마지막 셀일 경우 새로운 셀 추가\n",
    " - m : 마크다운으로 변경(메모 기능 사용)<br>\n",
    " - y : 코드로 변경(코딩)<br>"
   ]
  },
  {
   "cell_type": "markdown",
   "id": "c39dcd94",
   "metadata": {},
   "source": [
    "## Markdown 문법"
   ]
  },
  {
   "cell_type": "markdown",
   "id": "38456561",
   "metadata": {},
   "source": [
    "# 제목 1\n",
    "\n",
    "## 제목 2\n",
    "\n",
    "### 제목 3\n",
    "\n",
    "#### 제목 4\n",
    "\n",
    "##### 제목 5\n",
    "\n",
    "- 부연 설명1\n",
    " - 부연 설명2\n",
    "\n",
    "**강조**<br><br>\n",
    "특수기호 보고 싶을 경우 \\백슬래시를 특수기호 앞에 적용시켜주면 됨  \n",
    "ex) \\<br>\n",
    "\n",
    "---\n",
    "- [x] 체크박스 체크\n",
    "- [ ] 체크박스 미체크"
   ]
  },
  {
   "cell_type": "markdown",
   "id": "b7dd21d4",
   "metadata": {},
   "source": [
    "## Python 기초"
   ]
  },
  {
   "cell_type": "markdown",
   "id": "69578e15",
   "metadata": {},
   "source": [
    "### 1. 변수"
   ]
  },
  {
   "cell_type": "markdown",
   "id": "0ef63a00",
   "metadata": {},
   "source": [
    "#### 1.1. 변수의 의미\n",
    "- 변수 = 값\n",
    "- 변수에 값을 저장하겠다는 의미이다"
   ]
  },
  {
   "cell_type": "code",
   "execution_count": 1,
   "id": "dce1df03",
   "metadata": {},
   "outputs": [],
   "source": [
    "apple = 10\n",
    "banana = 20"
   ]
  },
  {
   "cell_type": "code",
   "execution_count": 2,
   "id": "f49b75cd",
   "metadata": {},
   "outputs": [
    {
     "data": {
      "text/plain": [
       "30"
      ]
     },
     "execution_count": 2,
     "metadata": {},
     "output_type": "execute_result"
    }
   ],
   "source": [
    "apple + banana"
   ]
  },
  {
   "cell_type": "code",
   "execution_count": 3,
   "id": "852633a8",
   "metadata": {},
   "outputs": [
    {
     "name": "stdout",
     "output_type": "stream",
     "text": [
      "30\n"
     ]
    }
   ],
   "source": [
    "print(apple + banana)"
   ]
  },
  {
   "cell_type": "markdown",
   "id": "7c30fea7",
   "metadata": {},
   "source": [
    "---\n",
    "참고\n",
    "- jupyter notebook 에서만 바로 확인할 때 print() 안 쓰고 확인 가능하다\n",
    "- 하지만 실제 프로그램에서는 print() 함수를 안 써주면 에러 발생한다\n",
    "- print() 를 써줘야 올바른 코딩이라고 할 수 있다\n",
    "---"
   ]
  },
  {
   "cell_type": "markdown",
   "id": "8fc43149",
   "metadata": {},
   "source": [
    "#### 1.2. 변수명 만들기\n",
    "- 변수명의 첫 문자는 영문자 또는 '_' 언더바로 시작해야 한다\n",
    "- 변수명의 첫 문자로 숫자/특수문자 사용할 수 없다\n",
    "- 예약어(for, and 등)으로 변수 지정이 불가하다"
   ]
  },
  {
   "cell_type": "code",
   "execution_count": 4,
   "id": "37dda179",
   "metadata": {},
   "outputs": [],
   "source": [
    "_unit = 1"
   ]
  },
  {
   "cell_type": "code",
   "execution_count": 5,
   "id": "4c21aee1",
   "metadata": {},
   "outputs": [
    {
     "ename": "SyntaxError",
     "evalue": "invalid decimal literal (Temp/ipykernel_19332/43463008.py, line 2)",
     "output_type": "error",
     "traceback": [
      "\u001b[1;36m  File \u001b[1;32m\"C:\\Users\\user\\AppData\\Local\\Temp/ipykernel_19332/43463008.py\"\u001b[1;36m, line \u001b[1;32m2\u001b[0m\n\u001b[1;33m    1_unit = 1\u001b[0m\n\u001b[1;37m     ^\u001b[0m\n\u001b[1;31mSyntaxError\u001b[0m\u001b[1;31m:\u001b[0m invalid decimal literal\n"
     ]
    }
   ],
   "source": [
    "# ERROR : 변수 첫 글자 숫자로 사용 불가\n",
    "1_unit = 1"
   ]
  },
  {
   "cell_type": "code",
   "execution_count": 7,
   "id": "ceaff3cd",
   "metadata": {},
   "outputs": [
    {
     "ename": "SyntaxError",
     "evalue": "invalid syntax (Temp/ipykernel_19332/2997458970.py, line 2)",
     "output_type": "error",
     "traceback": [
      "\u001b[1;36m  File \u001b[1;32m\"C:\\Users\\user\\AppData\\Local\\Temp/ipykernel_19332/2997458970.py\"\u001b[1;36m, line \u001b[1;32m2\u001b[0m\n\u001b[1;33m    @unit = 1\u001b[0m\n\u001b[1;37m          ^\u001b[0m\n\u001b[1;31mSyntaxError\u001b[0m\u001b[1;31m:\u001b[0m invalid syntax\n"
     ]
    }
   ],
   "source": [
    "# ERROR : 변수 첫 글자 특수문자로 사용 불가\n",
    "@unit = 1"
   ]
  },
  {
   "cell_type": "code",
   "execution_count": 8,
   "id": "e36ae634",
   "metadata": {},
   "outputs": [
    {
     "ename": "SyntaxError",
     "evalue": "invalid syntax (Temp/ipykernel_19332/4204645203.py, line 2)",
     "output_type": "error",
     "traceback": [
      "\u001b[1;36m  File \u001b[1;32m\"C:\\Users\\user\\AppData\\Local\\Temp/ipykernel_19332/4204645203.py\"\u001b[1;36m, line \u001b[1;32m2\u001b[0m\n\u001b[1;33m    and = 1\u001b[0m\n\u001b[1;37m    ^\u001b[0m\n\u001b[1;31mSyntaxError\u001b[0m\u001b[1;31m:\u001b[0m invalid syntax\n"
     ]
    }
   ],
   "source": [
    "# ERROR : 변수로 예약어 사용 불가\n",
    "and = 1"
   ]
  },
  {
   "cell_type": "markdown",
   "id": "2c5cd8cb",
   "metadata": {},
   "source": [
    "#### 1.3. 변수에 값 대입\n",
    "- 변수 선언 시 자료형을 명시하지 않아도 된다\n",
    "- 파이썬에서는 변수에 값을 대입하면 자동으로 변수의 자료형이 정해진다\n",
    "- 자료형\n",
    " - int : 정수형\n",
    " - float : 실수형\n",
    " - bool : 참과 거짓을 나타내는 자료형\n",
    " - str : 문자열"
   ]
  },
  {
   "cell_type": "code",
   "execution_count": 9,
   "id": "39463451",
   "metadata": {},
   "outputs": [],
   "source": [
    "number = 1\n",
    "pi = 3.14\n",
    "flag = True\n",
    "char = 'x'\n",
    "chars = 'hello'"
   ]
  },
  {
   "cell_type": "code",
   "execution_count": 10,
   "id": "71b87784",
   "metadata": {},
   "outputs": [
    {
     "name": "stdout",
     "output_type": "stream",
     "text": [
      "<class 'int'>\n",
      "<class 'float'>\n",
      "<class 'bool'>\n",
      "<class 'str'>\n",
      "<class 'str'>\n"
     ]
    }
   ],
   "source": [
    "print(type(number))\n",
    "print(type(pi))\n",
    "print(type(flag))\n",
    "print(type(char))\n",
    "print(type(chars))"
   ]
  },
  {
   "cell_type": "markdown",
   "id": "282a9211",
   "metadata": {},
   "source": [
    "#### 1.4. 변수의 생성\n",
    "- 똑같은 변수에 새로운 값을 넣어준 경우에는 변수의 값이 변경된다는 의미가 아니다\n",
    " - 기존 변수를 없애고 아예 새로운 변수가 선언된다는 의미이다\n",
    " - 기존 변수는 없어지고 값을 불러올 수도 없다"
   ]
  },
  {
   "cell_type": "code",
   "execution_count": 11,
   "id": "de31ff17",
   "metadata": {},
   "outputs": [
    {
     "name": "stdout",
     "output_type": "stream",
     "text": [
      "1472769025104\n"
     ]
    }
   ],
   "source": [
    "# 변수 생성 : identity 변수에 지구인 이라는 값을 선언\n",
    "identity = '지구인'\n",
    "print(id(identity))"
   ]
  },
  {
   "cell_type": "markdown",
   "id": "b7128fe6",
   "metadata": {},
   "source": [
    "2) 변수 생성(identity 변수에 외계인 이라는 값을 선언)"
   ]
  },
  {
   "cell_type": "code",
   "execution_count": 12,
   "id": "9f56a1eb",
   "metadata": {},
   "outputs": [
    {
     "name": "stdout",
     "output_type": "stream",
     "text": [
      "1472769025776\n"
     ]
    }
   ],
   "source": [
    "# 변수 생성 : identity 변수에 외계인 이라는 값을 선언\n",
    "identity = '외계인'\n",
    "print(id(identity))"
   ]
  },
  {
   "cell_type": "code",
   "execution_count": 13,
   "id": "9dedc6c1",
   "metadata": {},
   "outputs": [
    {
     "name": "stdout",
     "output_type": "stream",
     "text": [
      "외계인\n"
     ]
    }
   ],
   "source": [
    "print(identity)"
   ]
  },
  {
   "cell_type": "markdown",
   "id": "cb97a1cd",
   "metadata": {},
   "source": [
    "### 2. 간단한 함수 써보기\n",
    "- print(\"hello world\") 처럼 () 괄호가 존재하는 것을 함수라고 간단하게 생각하자"
   ]
  },
  {
   "cell_type": "markdown",
   "id": "576522c2",
   "metadata": {},
   "source": [
    "#### 2.1. 출력함수 : print()\n",
    "- 함수 안(괄호 안)에 있는 내용을 출력한다\n",
    "- 파이썬에서는 파일화를 시킬 때 반드시 print() 함수를 써줘야 한다\n",
    "- 큰 따옴표로 묶나 작은 따옴표로 묶나 차이점은 없다"
   ]
  },
  {
   "cell_type": "code",
   "execution_count": 14,
   "id": "bcd65f8f",
   "metadata": {},
   "outputs": [
    {
     "name": "stdout",
     "output_type": "stream",
     "text": [
      "lifeisshort\n"
     ]
    }
   ],
   "source": [
    "print(\"life\" \"is\" \"short\")"
   ]
  },
  {
   "cell_type": "code",
   "execution_count": 15,
   "id": "a2598c84",
   "metadata": {},
   "outputs": [
    {
     "name": "stdout",
     "output_type": "stream",
     "text": [
      "life is short\n"
     ]
    }
   ],
   "source": [
    "print(\"life\", \"is\", \"short\")"
   ]
  },
  {
   "cell_type": "code",
   "execution_count": 16,
   "id": "6fc121bd",
   "metadata": {},
   "outputs": [
    {
     "name": "stdout",
     "output_type": "stream",
     "text": [
      "life is short\n"
     ]
    }
   ],
   "source": [
    "print(\"life is short\")"
   ]
  },
  {
   "cell_type": "markdown",
   "id": "78b5f70c",
   "metadata": {},
   "source": [
    "#### 2.2. 입력함수 : input()\n",
    "- () 괄호가 존재하니 함수라고 간단하게 생각하자\n",
    "- 입력 값을 받는 함수이다\n",
    "- 입력 받은 값은 무조건 문자열로 저장된다"
   ]
  },
  {
   "cell_type": "code",
   "execution_count": 20,
   "id": "10152c3e",
   "metadata": {},
   "outputs": [
    {
     "name": "stdout",
     "output_type": "stream",
     "text": [
      "a 값을 입력해주세요 : A\n"
     ]
    }
   ],
   "source": [
    "a = input(\"a 값을 입력해주세요 : \")"
   ]
  },
  {
   "cell_type": "code",
   "execution_count": 21,
   "id": "a4c578a3",
   "metadata": {},
   "outputs": [
    {
     "name": "stdout",
     "output_type": "stream",
     "text": [
      "A\n"
     ]
    }
   ],
   "source": [
    "print(a)"
   ]
  },
  {
   "cell_type": "code",
   "execution_count": 22,
   "id": "01674277",
   "metadata": {},
   "outputs": [
    {
     "name": "stdout",
     "output_type": "stream",
     "text": [
      "A1000\n"
     ]
    }
   ],
   "source": [
    "b = input(a)"
   ]
  },
  {
   "cell_type": "code",
   "execution_count": 26,
   "id": "e6d70629",
   "metadata": {},
   "outputs": [
    {
     "name": "stdout",
     "output_type": "stream",
     "text": [
      "1000\n",
      "<class 'str'>\n"
     ]
    }
   ],
   "source": [
    "print(b)\n",
    "print(type(b))"
   ]
  },
  {
   "cell_type": "code",
   "execution_count": 27,
   "id": "457e82e7",
   "metadata": {},
   "outputs": [
    {
     "name": "stdout",
     "output_type": "stream",
     "text": [
      "A\n",
      "<class 'str'>\n"
     ]
    }
   ],
   "source": [
    "print(a)\n",
    "print(type(a))"
   ]
  },
  {
   "cell_type": "markdown",
   "id": "2a680db0",
   "metadata": {},
   "source": [
    "### 3. 주석처리"
   ]
  },
  {
   "cell_type": "markdown",
   "id": "01cda4fa",
   "metadata": {},
   "source": [
    "#### 3.1. 한 줄 주석\n",
    "- \"#\" 를 사용하여 주석 처리한다\n",
    "- 코드를 일시적으로 비활성화 할 때 사용한다\n",
    "- 코드 설명을 적을 때 사용한다"
   ]
  },
  {
   "cell_type": "code",
   "execution_count": 28,
   "id": "01112379",
   "metadata": {},
   "outputs": [
    {
     "name": "stdout",
     "output_type": "stream",
     "text": [
      "A\n"
     ]
    }
   ],
   "source": [
    "print(a)\n",
    "# print(b)"
   ]
  },
  {
   "cell_type": "markdown",
   "id": "d83af511",
   "metadata": {},
   "source": [
    "#### 3.2. 여러 줄 주석\n",
    "- \"\"\" (큰 따옴표 3개) 또는 ''' (작은 따옴표 3개) 사용\n",
    "- 프로그램에 대한 설명을 적을 때 사용한다\n",
    "- 코드에 대한 긴 설명이 필요할 때 사용한다"
   ]
  },
  {
   "cell_type": "code",
   "execution_count": 29,
   "id": "400dd484",
   "metadata": {},
   "outputs": [
    {
     "name": "stdout",
     "output_type": "stream",
     "text": [
      "hello\n"
     ]
    }
   ],
   "source": [
    "\"\"\"\n",
    "주석 내용입니다.\n",
    "\"\"\"\n",
    "print(\"hello\")"
   ]
  },
  {
   "cell_type": "markdown",
   "id": "250b9923",
   "metadata": {},
   "source": [
    "### 4. 파이썬은 대소문자 구분\n",
    "- 함수명, 변수명 등 대소문자 구분해서 사용해야 한다\n",
    "- 기본적으로 시스템 함수는 소문자로 사용해야 한다"
   ]
  },
  {
   "cell_type": "code",
   "execution_count": 30,
   "id": "bea4f1a8",
   "metadata": {},
   "outputs": [
    {
     "name": "stdout",
     "output_type": "stream",
     "text": [
      "pyt\n",
      "hon\n"
     ]
    }
   ],
   "source": [
    "a = \"pyt\" # 변수 a 에는 \"pyt\" 값을 선언\n",
    "A = \"hon\" # 변수 A 에는 \"hon\" 값을 선언 \n",
    "print(a)  # 변수 a 값 출력 \n",
    "print(A)  # 변수 A 값 출력"
   ]
  },
  {
   "cell_type": "code",
   "execution_count": 31,
   "id": "e2e59d2b",
   "metadata": {},
   "outputs": [
    {
     "ename": "NameError",
     "evalue": "name 'PRINT' is not defined",
     "output_type": "error",
     "traceback": [
      "\u001b[1;31m---------------------------------------------------------------------------\u001b[0m",
      "\u001b[1;31mNameError\u001b[0m                                 Traceback (most recent call last)",
      "\u001b[1;32m~\\AppData\\Local\\Temp/ipykernel_19332/3568249318.py\u001b[0m in \u001b[0;36m<module>\u001b[1;34m\u001b[0m\n\u001b[0;32m      1\u001b[0m \u001b[1;31m# ERROR : a 값을 PRINT() 함수로 출력\u001b[0m\u001b[1;33m\u001b[0m\u001b[1;33m\u001b[0m\u001b[0m\n\u001b[1;32m----> 2\u001b[1;33m \u001b[0mPRINT\u001b[0m\u001b[1;33m(\u001b[0m\u001b[0ma\u001b[0m\u001b[1;33m)\u001b[0m\u001b[1;33m\u001b[0m\u001b[1;33m\u001b[0m\u001b[0m\n\u001b[0m",
      "\u001b[1;31mNameError\u001b[0m: name 'PRINT' is not defined"
     ]
    }
   ],
   "source": [
    "# ERROR : a 값을 PRINT() 함수로 출력\n",
    "PRINT(a)"
   ]
  },
  {
   "cell_type": "markdown",
   "id": "f672353e",
   "metadata": {},
   "source": [
    "### 5. 연산 시 동일한 자료형\n",
    "- 기본적으로 변수끼리 연산을 하기 위해서는 해당 변수들의 자료형이 같은 자료형이어야 한다  \n",
    "- 문자열과 숫자형을 같이 사용하여 에러 나는 경우 다음과 같이 해결할 수 있다"
   ]
  },
  {
   "cell_type": "markdown",
   "id": "e88a3200",
   "metadata": {},
   "source": [
    "1) 해결 방법1\n",
    "- 변수 선언하고 둘의 자료형을 일치시켜주는 방법"
   ]
  },
  {
   "cell_type": "code",
   "execution_count": 32,
   "id": "5420ab23",
   "metadata": {},
   "outputs": [
    {
     "name": "stdout",
     "output_type": "stream",
     "text": [
      "hana26\n"
     ]
    }
   ],
   "source": [
    "name = \"hana\"\n",
    "age = 26\n",
    "age = str(age)\n",
    "\n",
    "print(name+age)"
   ]
  },
  {
   "cell_type": "markdown",
   "id": "108ea0fa",
   "metadata": {},
   "source": [
    "2) 해결 방법2\n",
    "- print() 함수 내에서 일시적으로 자료형을 일치시켜주는 방법"
   ]
  },
  {
   "cell_type": "code",
   "execution_count": 33,
   "id": "0a50b09f",
   "metadata": {},
   "outputs": [
    {
     "name": "stdout",
     "output_type": "stream",
     "text": [
      "hana26\n"
     ]
    }
   ],
   "source": [
    "name = \"hana\"\n",
    "age = 26\n",
    "\n",
    "print(name+str(age))"
   ]
  }
 ],
 "metadata": {
  "kernelspec": {
   "display_name": "Python 3 (ipykernel)",
   "language": "python",
   "name": "python3"
  },
  "language_info": {
   "codemirror_mode": {
    "name": "ipython",
    "version": 3
   },
   "file_extension": ".py",
   "mimetype": "text/x-python",
   "name": "python",
   "nbconvert_exporter": "python",
   "pygments_lexer": "ipython3",
   "version": "3.9.7"
  }
 },
 "nbformat": 4,
 "nbformat_minor": 5
}
