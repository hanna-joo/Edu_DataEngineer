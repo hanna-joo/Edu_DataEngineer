{
 "cells": [
  {
   "cell_type": "markdown",
   "id": "1b3a6341",
   "metadata": {},
   "source": [
    "# Python 자료형 1\n",
    "- 기간 : 2022.05.11 ~ 2022.05.12"
   ]
  },
  {
   "cell_type": "markdown",
   "id": "d63e2c2e",
   "metadata": {},
   "source": [
    "## 자료형의 종류\n",
    "자료형 또는 데이터 타입이란 숫자, 문자 등과 같이 여러 종류의 데이터를 구분하기 위한 분류이다  \n",
    "자료형 종류는 총 7가지이다\n",
    "- 일반 자료형\n",
    " 1. 수치형 자료 (정수, 실수)\n",
    " 2. 문자열 자료\n",
    " 3. 부울 자료\n",
    "- 묶음 자료형\n",
    " 4. 리스트 자료\n",
    " 5. 튜플 자료\n",
    " 6. 사전 자료\n",
    " 7. 집합 자료"
   ]
  },
  {
   "cell_type": "markdown",
   "id": "a4cc260b",
   "metadata": {},
   "source": [
    "## 일반 자료형"
   ]
  },
  {
   "cell_type": "markdown",
   "id": "16f01906",
   "metadata": {},
   "source": [
    "### 1. 수치 자료형 (int / float)"
   ]
  },
  {
   "cell_type": "markdown",
   "id": "985eb012",
   "metadata": {},
   "source": [
    "#### 1.1. 정수 자료형 (int)\n",
    "1) 정수형 자료"
   ]
  },
  {
   "cell_type": "code",
   "execution_count": 1,
   "id": "924cd2bb",
   "metadata": {},
   "outputs": [],
   "source": [
    "a = 123        # a 변수에 정수 저장"
   ]
  },
  {
   "cell_type": "code",
   "execution_count": 2,
   "id": "7e8436f7",
   "metadata": {},
   "outputs": [
    {
     "name": "stdout",
     "output_type": "stream",
     "text": [
      "<class 'int'>\n"
     ]
    }
   ],
   "source": [
    "print(type(a)) # a 자료형 출력"
   ]
  },
  {
   "cell_type": "code",
   "execution_count": 3,
   "id": "1b29a40e",
   "metadata": {},
   "outputs": [
    {
     "name": "stdout",
     "output_type": "stream",
     "text": [
      "123\n"
     ]
    }
   ],
   "source": [
    "print(a)       # a 변수 출력"
   ]
  },
  {
   "cell_type": "markdown",
   "id": "d9f804d4",
   "metadata": {},
   "source": [
    "2) 정수 바이트 수 확인\n",
    "- (정수).bit_length() 명령어로 정수의 바이트 수 확인"
   ]
  },
  {
   "cell_type": "code",
   "execution_count": 4,
   "id": "90828d20",
   "metadata": {},
   "outputs": [
    {
     "name": "stdout",
     "output_type": "stream",
     "text": [
      "4\n"
     ]
    }
   ],
   "source": [
    "print((9).bit_length()) # 정수 9의 바이트 수 확인"
   ]
  },
  {
   "cell_type": "markdown",
   "id": "9fb9d87f",
   "metadata": {},
   "source": [
    "#### 1.2. 실수 자료형 (float)"
   ]
  },
  {
   "cell_type": "markdown",
   "id": "219473ad",
   "metadata": {},
   "source": [
    "1) 실수형 자료"
   ]
  },
  {
   "cell_type": "code",
   "execution_count": 5,
   "id": "0b55077b",
   "metadata": {},
   "outputs": [],
   "source": [
    "b = -118.625"
   ]
  },
  {
   "cell_type": "code",
   "execution_count": 6,
   "id": "07e33bf1",
   "metadata": {},
   "outputs": [
    {
     "name": "stdout",
     "output_type": "stream",
     "text": [
      "<class 'float'>\n"
     ]
    }
   ],
   "source": [
    "print(type(b))"
   ]
  },
  {
   "cell_type": "code",
   "execution_count": 7,
   "id": "bef9f9b8",
   "metadata": {},
   "outputs": [
    {
     "name": "stdout",
     "output_type": "stream",
     "text": [
      "-118.625\n"
     ]
    }
   ],
   "source": [
    "print(b)"
   ]
  },
  {
   "cell_type": "markdown",
   "id": "5bd9a86a",
   "metadata": {},
   "source": [
    "2) **N 진수**로 변환\n",
    "- 파이썬에서 **정수**를 2진수, 8진수, 16진수로 표기 가능하다\n",
    " - 2진수(Binary) : 앞에 0b 라고 표기하며 bin() 함수를 통해 변환\n",
    " - 8진수(Octal) : 앞에 0o 라고 표기하며 oct() 함수를 통해 변환\n",
    " - 16진수(Hexadecimal) : 앞에 0x 라고 표기하며 hex() 함수를 통해 변환"
   ]
  },
  {
   "cell_type": "code",
   "execution_count": 8,
   "id": "ae2979cd",
   "metadata": {},
   "outputs": [
    {
     "data": {
      "text/plain": [
       "'0xff'"
      ]
     },
     "execution_count": 8,
     "metadata": {},
     "output_type": "execute_result"
    }
   ],
   "source": [
    "bin(255) # 정수 255를 2진수로 출력\n",
    "oct(255) # 정수 255를 8진수로 출력\n",
    "hex(255) # 정수 255를 16진수로 출력"
   ]
  },
  {
   "cell_type": "markdown",
   "id": "a08828e6",
   "metadata": {},
   "source": [
    "#### 1.3. 숫자형을 활용하기 위한 연산자 사용"
   ]
  },
  {
   "cell_type": "markdown",
   "id": "c18d2fdb",
   "metadata": {},
   "source": [
    "1) 사칙연산"
   ]
  },
  {
   "cell_type": "code",
   "execution_count": 9,
   "id": "8aa232ac",
   "metadata": {},
   "outputs": [],
   "source": [
    "a = 7\n",
    "b = 3"
   ]
  },
  {
   "cell_type": "code",
   "execution_count": 10,
   "id": "6daa6fd1",
   "metadata": {},
   "outputs": [
    {
     "name": "stdout",
     "output_type": "stream",
     "text": [
      "10\n",
      "4\n",
      "21\n",
      "2.3333333333333335\n"
     ]
    }
   ],
   "source": [
    "print(a+b) # a 와 b 를 더한 값\n",
    "print(a-b) # a 에서 b 를 뺀 값\n",
    "print(a*b) # a 와 b 를 곱한 값\n",
    "print(a/b) # a 에서  b 를 나눈 값"
   ]
  },
  {
   "cell_type": "markdown",
   "id": "aeeb66f8",
   "metadata": {},
   "source": [
    "2) x 의 y 제곱을 나타내는 ** 연산자"
   ]
  },
  {
   "cell_type": "code",
   "execution_count": 11,
   "id": "56ad8462",
   "metadata": {
    "scrolled": true
   },
   "outputs": [
    {
     "name": "stdout",
     "output_type": "stream",
     "text": [
      "343\n"
     ]
    }
   ],
   "source": [
    "print(a**b) # a 의 b 제곱 출력"
   ]
  },
  {
   "cell_type": "markdown",
   "id": "6cb78352",
   "metadata": {},
   "source": [
    "3) 나눗셈 후 나머지를 반환하는 % 연산자"
   ]
  },
  {
   "cell_type": "code",
   "execution_count": 12,
   "id": "2c6d2a63",
   "metadata": {},
   "outputs": [
    {
     "name": "stdout",
     "output_type": "stream",
     "text": [
      "1\n"
     ]
    }
   ],
   "source": [
    "print(a%b) # a 에서 b 를 나눈 나머지 값 출력"
   ]
  },
  {
   "cell_type": "markdown",
   "id": "4889a70e",
   "metadata": {},
   "source": [
    "4) 나눗셈 후 몫을 반환하는 // 연산자"
   ]
  },
  {
   "cell_type": "code",
   "execution_count": 13,
   "id": "ef1ca493",
   "metadata": {},
   "outputs": [
    {
     "name": "stdout",
     "output_type": "stream",
     "text": [
      "2\n"
     ]
    }
   ],
   "source": [
    "print(a//b) # a 에서 b 를 나눈 몫 출력"
   ]
  },
  {
   "cell_type": "markdown",
   "id": "b2dfbbfb",
   "metadata": {},
   "source": [
    "### 2. 문자열 자료형 (string)\n",
    "- 문자 하나로 or 단어 등으로 구성된 문자들의 집합\n",
    "- 따옴표로 둘러싸여 있으면 모두 문자열"
   ]
  },
  {
   "cell_type": "markdown",
   "id": "4831c6b5",
   "metadata": {},
   "source": [
    "#### 2.1. 문자 자료형 (string)"
   ]
  },
  {
   "cell_type": "code",
   "execution_count": 14,
   "id": "44119202",
   "metadata": {
    "scrolled": true
   },
   "outputs": [
    {
     "name": "stdout",
     "output_type": "stream",
     "text": [
      "Hello World\n",
      "<class 'str'>\n"
     ]
    }
   ],
   "source": [
    "a = \"Hello World\"     # 변수 a 에 \"Hello World\" 라는 문자 넣기\n",
    "print(a)              # 변수 a 의 값 확인\n",
    "print(type(a))        # 변수 a 의 타입 확인"
   ]
  },
  {
   "cell_type": "code",
   "execution_count": 15,
   "id": "c21cfcd2",
   "metadata": {},
   "outputs": [
    {
     "name": "stdout",
     "output_type": "stream",
     "text": [
      "2\n",
      "<class 'str'>\n"
     ]
    }
   ],
   "source": [
    "b = \"2\"          # 변수 b 에 2 라는 문자 넣기\n",
    "print(b)         # 변수 b 의 값 확인\n",
    "print(type(b))   # 변수 b 의 타입 확인"
   ]
  },
  {
   "cell_type": "markdown",
   "id": "9077f456",
   "metadata": {},
   "source": [
    "#### 2.2. 문자열에서 \"\" (큰 따옴표) 표현"
   ]
  },
  {
   "cell_type": "markdown",
   "id": "2b0073de",
   "metadata": {},
   "source": [
    "1) 동일한 따옴표 중복 사용 시 에러 발생"
   ]
  },
  {
   "cell_type": "code",
   "execution_count": 16,
   "id": "c6b4533a",
   "metadata": {
    "scrolled": true
   },
   "outputs": [
    {
     "ename": "SyntaxError",
     "evalue": "invalid syntax (Temp/ipykernel_7964/4115324977.py, line 1)",
     "output_type": "error",
     "traceback": [
      "\u001b[1;36m  File \u001b[1;32m\"C:\\Users\\user\\AppData\\Local\\Temp/ipykernel_7964/4115324977.py\"\u001b[1;36m, line \u001b[1;32m1\u001b[0m\n\u001b[1;33m    say1 = \"\"Python is very easy\" he says\"\"\u001b[0m\n\u001b[1;37m             ^\u001b[0m\n\u001b[1;31mSyntaxError\u001b[0m\u001b[1;31m:\u001b[0m invalid syntax\n"
     ]
    }
   ],
   "source": [
    "# ERROR : 동일한 따옴표 중복 사용 시 에러 발생\n",
    "say1 = \"\"Python is very easy\" he says\"\""
   ]
  },
  {
   "cell_type": "markdown",
   "id": "164809c4",
   "metadata": {},
   "source": [
    "2) 작은 따옴표와 큰 따옴표 둘 다 사용"
   ]
  },
  {
   "cell_type": "code",
   "execution_count": 23,
   "id": "f1057e6f",
   "metadata": {},
   "outputs": [
    {
     "name": "stdout",
     "output_type": "stream",
     "text": [
      "\"Python is very easy\" he says\n"
     ]
    }
   ],
   "source": [
    "say2 = '\"Python is very easy\" he says'\n",
    "print(say2)"
   ]
  },
  {
   "cell_type": "markdown",
   "id": "6408f132",
   "metadata": {},
   "source": [
    "3) 원화 또는 백슬래시(\\\\) 표시 사용  \n",
    " - 원화 표시 뒤에 오는 기호를 목적성을 없애고 문자 그 자체로 표현할 수 있다"
   ]
  },
  {
   "cell_type": "code",
   "execution_count": 24,
   "id": "b392c759",
   "metadata": {},
   "outputs": [
    {
     "name": "stdout",
     "output_type": "stream",
     "text": [
      "\"Python is very easy\" he says\n"
     ]
    }
   ],
   "source": [
    "say3 = \"\\\"Python is very easy\\\" he says\"\n",
    "print(say3)"
   ]
  },
  {
   "cell_type": "markdown",
   "id": "7b87df79",
   "metadata": {},
   "source": [
    "4) 큰 따옴표의 쌍이 맞지 않으면 에러 발생"
   ]
  },
  {
   "cell_type": "code",
   "execution_count": 25,
   "id": "639c1483",
   "metadata": {
    "scrolled": true
   },
   "outputs": [
    {
     "ename": "SyntaxError",
     "evalue": "EOL while scanning string literal (Temp/ipykernel_7964/3501535323.py, line 1)",
     "output_type": "error",
     "traceback": [
      "\u001b[1;36m  File \u001b[1;32m\"C:\\Users\\user\\AppData\\Local\\Temp/ipykernel_7964/3501535323.py\"\u001b[1;36m, line \u001b[1;32m1\u001b[0m\n\u001b[1;33m    money = \"10000\\\"\u001b[0m\n\u001b[1;37m                    ^\u001b[0m\n\u001b[1;31mSyntaxError\u001b[0m\u001b[1;31m:\u001b[0m EOL while scanning string literal\n"
     ]
    }
   ],
   "source": [
    "# ERROR : 큰 따옴표의 쌍이 맞지 않으면 에러 발생\n",
    "money = \"10000\\\""
   ]
  },
  {
   "cell_type": "markdown",
   "id": "977375c0",
   "metadata": {},
   "source": [
    "5) 원화 표시 사용 시 두 번 입력"
   ]
  },
  {
   "cell_type": "code",
   "execution_count": 26,
   "id": "65f5299a",
   "metadata": {},
   "outputs": [
    {
     "name": "stdout",
     "output_type": "stream",
     "text": [
      "10000\\\n"
     ]
    }
   ],
   "source": [
    "money = \"10000\\\\\" # money 변수에 10000\\ 표시\n",
    "print(money)"
   ]
  },
  {
   "cell_type": "markdown",
   "id": "8a26dbab",
   "metadata": {},
   "source": [
    "#### 2.3. 이스케이프 문자 사용\n",
    "- 프로그래밍할 때 사용할 수 있도록 미리 정의해 둔 \"문자 조합\"\n",
    "- 이스케이프 코드\n",
    " - \\n : 문자열 안에서 줄을 바꿀 때 사용\n",
    " - \\t : 문자열 사이에 간격을 줄 때 사용\n",
    " - \\\\\\ : 문자 \\ 를 그대로 표현할 때 사용\n",
    " - \\\\' : 작은 따옴표를 그대로 표현할 때 사용\n",
    " - \\\\\" : 큰 따옴표를 그대로 표현할 때 사용"
   ]
  },
  {
   "cell_type": "markdown",
   "id": "5f1aafc5",
   "metadata": {},
   "source": [
    "1) 줄바꿈 (\\n / ''')"
   ]
  },
  {
   "cell_type": "code",
   "execution_count": 27,
   "id": "5dfea790",
   "metadata": {},
   "outputs": [
    {
     "name": "stdout",
     "output_type": "stream",
     "text": [
      "Life is short\n",
      "You need python\n"
     ]
    }
   ],
   "source": [
    "multiline = \"Life is short\\nYou need python\"\n",
    "print(multiline)"
   ]
  },
  {
   "cell_type": "code",
   "execution_count": 28,
   "id": "9de17618",
   "metadata": {
    "scrolled": true
   },
   "outputs": [
    {
     "name": "stdout",
     "output_type": "stream",
     "text": [
      "\n",
      "Life is short\n",
      "You need python\n",
      "\n"
     ]
    }
   ],
   "source": [
    "multiline = '''\n",
    "Life is short\n",
    "You need python\n",
    "'''\n",
    "print(multiline)"
   ]
  },
  {
   "cell_type": "markdown",
   "id": "320bd274",
   "metadata": {},
   "source": [
    "2) 간격 띄우기 (\\t)"
   ]
  },
  {
   "cell_type": "code",
   "execution_count": 29,
   "id": "cff58287",
   "metadata": {},
   "outputs": [
    {
     "name": "stdout",
     "output_type": "stream",
     "text": [
      "Life is short\tYou need python\n"
     ]
    }
   ],
   "source": [
    "multiline = \"Life is short\\tYou need python\"\n",
    "print(multiline)"
   ]
  },
  {
   "cell_type": "markdown",
   "id": "0d14463c",
   "metadata": {},
   "source": [
    "#### 2.4. 문자열 연산하기"
   ]
  },
  {
   "cell_type": "markdown",
   "id": "c1a1e377",
   "metadata": {},
   "source": [
    "1) 더하기 연산 : 문자열 이어 붙이기"
   ]
  },
  {
   "cell_type": "code",
   "execution_count": 30,
   "id": "1a0e725d",
   "metadata": {},
   "outputs": [
    {
     "name": "stdout",
     "output_type": "stream",
     "text": [
      "Pythonis fun!\n"
     ]
    }
   ],
   "source": [
    "head = \"Python\"    # head 라는 변수에 값 \"Python\" 선언\n",
    "tail = \"is fun!\"   # tail 이라는 변수에 값 \"is fun!\" 선언\n",
    "print(head + tail) # head 와 tail 을 더한 값 출력"
   ]
  },
  {
   "cell_type": "markdown",
   "id": "09e5600e",
   "metadata": {},
   "source": [
    "2) 곱하기 연산 : 문자열을 반복할 때 사용"
   ]
  },
  {
   "cell_type": "code",
   "execution_count": 31,
   "id": "0d66fdfc",
   "metadata": {},
   "outputs": [
    {
     "name": "stdout",
     "output_type": "stream",
     "text": [
      "PythonPython\n"
     ]
    }
   ],
   "source": [
    "a = \"Python\" # a 변수에 \"Python\" 값 선언\n",
    "print(a*2)   # a 변수에 2를 곱한 값 출력"
   ]
  },
  {
   "cell_type": "markdown",
   "id": "38a8b678",
   "metadata": {},
   "source": [
    "3) 문자열 곱하기 응용 : 다음과 같은 형태로 문자열을 출력하세요\n",
    "\n",
    "===================  \n",
    "My program  \n",
    "===================  "
   ]
  },
  {
   "cell_type": "code",
   "execution_count": 32,
   "id": "52c9ec39",
   "metadata": {},
   "outputs": [
    {
     "name": "stdout",
     "output_type": "stream",
     "text": [
      "====================\n",
      "My Program\n",
      "====================\n"
     ]
    }
   ],
   "source": [
    "# 방법 1\n",
    "a = \"=\" * 20\n",
    "print(a + \"\\nMy Program\\n\" + a)"
   ]
  },
  {
   "cell_type": "code",
   "execution_count": 33,
   "id": "daabe97a",
   "metadata": {},
   "outputs": [
    {
     "name": "stdout",
     "output_type": "stream",
     "text": [
      "====================\n",
      "My Program\n",
      "====================\n"
     ]
    }
   ],
   "source": [
    "# 방법 2\n",
    "print(\"=\" * 20)\n",
    "print(\"My Program\")\n",
    "print(\"=\" * 20)"
   ]
  },
  {
   "cell_type": "markdown",
   "id": "ac1b54c2",
   "metadata": {},
   "source": [
    "#### 2.5. 문자열 길이\n",
    "- len () 함수 사용\n",
    "- 괄호 안에 문자열(\"\") 또는 문자열 타입의 변수 넣기"
   ]
  },
  {
   "cell_type": "code",
   "execution_count": 34,
   "id": "7d7ae6aa",
   "metadata": {},
   "outputs": [
    {
     "name": "stdout",
     "output_type": "stream",
     "text": [
      "17\n"
     ]
    }
   ],
   "source": [
    "a = \"Life is too short\" # a 변수에 Life is too short 문자열 값 선언\n",
    "print(len(a))           # a 변수의 길이 출력"
   ]
  },
  {
   "cell_type": "markdown",
   "id": "ea6e4e94",
   "metadata": {},
   "source": [
    "#### 2.6. 문자열 인덱싱과 슬라이싱"
   ]
  },
  {
   "cell_type": "markdown",
   "id": "0a400564",
   "metadata": {},
   "source": [
    "1) 문자열 인덱싱\n",
    "- 문자열 안의 특정한 값을 뽑아낼 때 사용\n",
    " - 양수로 표현 시 맨 앞글자에서 0부터 시작해서 +1씩 증가\n",
    " - 음수로 표현 시 맨 뒷글자에서 -1부터 시작해서 -1씩 증가"
   ]
  },
  {
   "cell_type": "code",
   "execution_count": 35,
   "id": "7bce76df",
   "metadata": {},
   "outputs": [],
   "source": [
    "a = \"Life is too short, You need Python\""
   ]
  },
  {
   "cell_type": "code",
   "execution_count": 36,
   "id": "8b688196",
   "metadata": {},
   "outputs": [
    {
     "name": "stdout",
     "output_type": "stream",
     "text": [
      "o\n",
      "u\n"
     ]
    }
   ],
   "source": [
    "print(a[10]) # a 의 10번째 문자 출력\n",
    "print(a[21]) # a 의 21번째 문자 출력"
   ]
  },
  {
   "cell_type": "code",
   "execution_count": 37,
   "id": "8e4792be",
   "metadata": {},
   "outputs": [
    {
     "name": "stdout",
     "output_type": "stream",
     "text": [
      "Y\n"
     ]
    }
   ],
   "source": [
    "print(a[-15]) # a 에서 Y 는 음수로 몇 번째에 있는지 찾아보기"
   ]
  },
  {
   "cell_type": "markdown",
   "id": "29caf1d5",
   "metadata": {},
   "source": [
    "2) 문자열 슬라이싱\n",
    "- 문자열의 구간을 이용해 문자열을 나눌 때 슬라이싱 사용\n",
    " - 시작 번호는 포함되고, 끝 번호는 포함되지 않고 끝 번호-1 위치까지\n",
    " - 시작 번호 생략 시, 처음부터 끝 번호-1 까지\n",
    " - 끝 번호 생략 시, 시작 번호부터 끝까지"
   ]
  },
  {
   "cell_type": "code",
   "execution_count": 38,
   "id": "b053db82",
   "metadata": {},
   "outputs": [],
   "source": [
    "a = \"Life is too short, You need Python\""
   ]
  },
  {
   "cell_type": "code",
   "execution_count": 39,
   "id": "65f423fd",
   "metadata": {},
   "outputs": [
    {
     "name": "stdout",
     "output_type": "stream",
     "text": [
      "Life\n",
      "Life is too short\n",
      "You need Python\n",
      "Life is too short, You need Python\n"
     ]
    }
   ],
   "source": [
    "print(a[0:4]) # a 변수의 0번째부터 3번째까지 문자열 출력\n",
    "print(a[:17]) # 시작 번호 생략하고, 끝 번호는 17에 해당하는 문자열 출력\n",
    "print(a[19:]) # 시작 번호 19이고, 끝 번호 생략하여 해당하는 문자열 출력\n",
    "print(a[:])   # 시작 번호 생략, 끝 번호 생략하여 해당하는 문자열 출력"
   ]
  },
  {
   "cell_type": "code",
   "execution_count": 40,
   "id": "0d59f091",
   "metadata": {
    "scrolled": true
   },
   "outputs": [
    {
     "name": "stdout",
     "output_type": "stream",
     "text": [
      "You need\n"
     ]
    }
   ],
   "source": [
    "# You need 출력 (시작 지점은 양수, 끝 지점은 음수로 표현)\n",
    "print(a[19:-7])"
   ]
  },
  {
   "cell_type": "markdown",
   "id": "0104e758",
   "metadata": {},
   "source": [
    "3) 슬라이싱 응용 : a 변수에 \"Pithon\" 이라는 문자열 저장 후 a 변수를 새로 생성하지 않고 \"Python\" 으로 바꾸세요\n",
    "- 문자열은 인덱싱에서 수정이 불가능"
   ]
  },
  {
   "cell_type": "code",
   "execution_count": 41,
   "id": "29d5b5e2",
   "metadata": {},
   "outputs": [],
   "source": [
    "a = \"Pithon\""
   ]
  },
  {
   "cell_type": "code",
   "execution_count": 42,
   "id": "acdd45fb",
   "metadata": {},
   "outputs": [
    {
     "ename": "TypeError",
     "evalue": "'str' object does not support item assignment",
     "output_type": "error",
     "traceback": [
      "\u001b[1;31m---------------------------------------------------------------------------\u001b[0m",
      "\u001b[1;31mTypeError\u001b[0m                                 Traceback (most recent call last)",
      "\u001b[1;32m~\\AppData\\Local\\Temp/ipykernel_7964/1635222623.py\u001b[0m in \u001b[0;36m<module>\u001b[1;34m\u001b[0m\n\u001b[1;32m----> 1\u001b[1;33m \u001b[0ma\u001b[0m\u001b[1;33m[\u001b[0m\u001b[1;36m1\u001b[0m\u001b[1;33m]\u001b[0m \u001b[1;33m=\u001b[0m \u001b[1;34m\"y\"\u001b[0m \u001b[1;31m# 문자열은 수정 지원 X\u001b[0m\u001b[1;33m\u001b[0m\u001b[1;33m\u001b[0m\u001b[0m\n\u001b[0m",
      "\u001b[1;31mTypeError\u001b[0m: 'str' object does not support item assignment"
     ]
    }
   ],
   "source": [
    "# ERROR : 문자열은 수정 지원 X\n",
    "a[1] = \"y\""
   ]
  },
  {
   "cell_type": "code",
   "execution_count": 43,
   "id": "d0bb5429",
   "metadata": {},
   "outputs": [
    {
     "name": "stdout",
     "output_type": "stream",
     "text": [
      "Python\n"
     ]
    }
   ],
   "source": [
    "b = a[:1] + \"y\" + a[2:]\n",
    "print(b)"
   ]
  },
  {
   "cell_type": "markdown",
   "id": "c9758475",
   "metadata": {},
   "source": [
    "#### 2.7. 문자열 포매팅하기\n",
    "- 문자열 안의 특정한 값이 계속 변동될 수 있을 때 사용\n",
    "- 형식을 맞춰주는 것"
   ]
  },
  {
   "cell_type": "markdown",
   "id": "1dcddd8a",
   "metadata": {},
   "source": [
    "1) 첫 번째 : 문자열 포맷 코드 사용\n",
    "- 문자열 포맷 코드\n",
    " - %s : 문자열 (string)\n",
    " - %c : 문자 1개 (character)\n",
    " - %d : 정수 (integer)\n",
    " - %f : 실수 (float)\n",
    " - %o : 8진수\n",
    " - %x : 16진수"
   ]
  },
  {
   "cell_type": "code",
   "execution_count": 44,
   "id": "e4682cce",
   "metadata": {},
   "outputs": [
    {
     "name": "stdout",
     "output_type": "stream",
     "text": [
      "I eat 3 apples\n",
      "I eat 3 apples\n",
      "I eat three apples\n"
     ]
    }
   ],
   "source": [
    "print(\"I eat 3 apples\")\n",
    "print(\"I eat %d apples\" % 3)       # 정수 포매팅\n",
    "print(\"I eat %s apples\" % \"three\") # 문자 포매팅"
   ]
  },
  {
   "cell_type": "markdown",
   "id": "a1afcdba",
   "metadata": {},
   "source": [
    "- 변수로 문자열 포매팅"
   ]
  },
  {
   "cell_type": "code",
   "execution_count": 45,
   "id": "8b81ebaf",
   "metadata": {},
   "outputs": [
    {
     "name": "stdout",
     "output_type": "stream",
     "text": [
      "I eat 3 apples\n"
     ]
    }
   ],
   "source": [
    "# 변수로 문자열 포매팅1\n",
    "number = 3\n",
    "print(\"I eat %d apples\" % number)"
   ]
  },
  {
   "cell_type": "code",
   "execution_count": 46,
   "id": "8deb3646",
   "metadata": {},
   "outputs": [
    {
     "name": "stdout",
     "output_type": "stream",
     "text": [
      "I eat five apples\n"
     ]
    }
   ],
   "source": [
    "# 변수로 문자열 포매팅2\n",
    "number = \"five\"\n",
    "print(\"I eat %s apples\" % number)"
   ]
  },
  {
   "cell_type": "code",
   "execution_count": 47,
   "id": "a97a9187",
   "metadata": {},
   "outputs": [
    {
     "name": "stdout",
     "output_type": "stream",
     "text": [
      "I ate 3 apples. So I was sick for three days.\n"
     ]
    }
   ],
   "source": [
    "# 여러 개의 문자열 포매팅\n",
    "number = 3\n",
    "day = \"three\"\n",
    "print(\"I ate %d apples. So I was sick for %s days.\" % (number, day))"
   ]
  },
  {
   "cell_type": "markdown",
   "id": "6a54c0fa",
   "metadata": {},
   "source": [
    "- 문자열 안에 % 표현\n",
    " - 포매팅할 때 %를 표현하고 싶은 경우 %% 사용 > % 기호의 목적성이 사라짐"
   ]
  },
  {
   "cell_type": "code",
   "execution_count": 48,
   "id": "97cc2860",
   "metadata": {},
   "outputs": [
    {
     "name": "stdout",
     "output_type": "stream",
     "text": [
      "Error is 99%\n"
     ]
    }
   ],
   "source": [
    "print(\"Error is %d%%\" % 99)"
   ]
  },
  {
   "cell_type": "markdown",
   "id": "c97a1a5f",
   "metadata": {},
   "source": [
    "- 정렬과 공백\n",
    " - 공백을 n칸 생성 후 해당 공간 내에서 우측/좌측 정렬\n",
    " - 우측 정렬 : 양의 정수\n",
    " - 좌측 정렬 : 음의 정수"
   ]
  },
  {
   "cell_type": "code",
   "execution_count": 49,
   "id": "368c73db",
   "metadata": {},
   "outputs": [
    {
     "name": "stdout",
     "output_type": "stream",
     "text": [
      "hi\n"
     ]
    }
   ],
   "source": [
    "# hi 라는 단어를 포매팅해서 출력\n",
    "print(\"%s\" % \"hi\")"
   ]
  },
  {
   "cell_type": "code",
   "execution_count": 50,
   "id": "fb859333",
   "metadata": {},
   "outputs": [
    {
     "name": "stdout",
     "output_type": "stream",
     "text": [
      "        hi\n"
     ]
    }
   ],
   "source": [
    "# 총 10칸을 만들어서 hi 라는 문자열을 우측 정렬\n",
    "print(\"%10s\" % \"hi\")"
   ]
  },
  {
   "cell_type": "code",
   "execution_count": 51,
   "id": "ce4a5b91",
   "metadata": {},
   "outputs": [
    {
     "name": "stdout",
     "output_type": "stream",
     "text": [
      "hi        \n"
     ]
    }
   ],
   "source": [
    "# 총 10칸을 만들어서 hi 라는 문자열을 좌측 정렬\n",
    "print(\"%-10s\" % \"hi\")"
   ]
  },
  {
   "cell_type": "markdown",
   "id": "0a8071ae",
   "metadata": {},
   "source": [
    "- 소수점 표현\n",
    " - 실수 포매팅 시 기본적으로 소수점 6자리까지 출력됨\n",
    " - 소수점 자리를 제한하면 반올림으로 계산하여 출력됨"
   ]
  },
  {
   "cell_type": "code",
   "execution_count": 52,
   "id": "07e9fab6",
   "metadata": {},
   "outputs": [
    {
     "name": "stdout",
     "output_type": "stream",
     "text": [
      "3.421342\n"
     ]
    }
   ],
   "source": [
    "# 3.42134234 실수를 포매팅하여 출력\n",
    "print(\"%f\" % 3.42134234)"
   ]
  },
  {
   "cell_type": "code",
   "execution_count": 53,
   "id": "31eba8e8",
   "metadata": {},
   "outputs": [
    {
     "name": "stdout",
     "output_type": "stream",
     "text": [
      "3.4213\n",
      "3.4213\n"
     ]
    }
   ],
   "source": [
    "# 소수점 4자리까지 표기\n",
    "print(\"%0.4f\" % 3.42134234)\n",
    "print(\"%.4f\" % 3.42134234)"
   ]
  },
  {
   "cell_type": "code",
   "execution_count": 54,
   "id": "9c35f9ec",
   "metadata": {},
   "outputs": [
    {
     "name": "stdout",
     "output_type": "stream",
     "text": [
      "    3.4213\n"
     ]
    }
   ],
   "source": [
    "# 10 칸을 할당하고 소수점 4자리까지 표기해서 우측 정렬\n",
    "print(\"%10.4f\" % 3.42134234)"
   ]
  },
  {
   "cell_type": "code",
   "execution_count": 55,
   "id": "053c1bdb",
   "metadata": {},
   "outputs": [
    {
     "name": "stdout",
     "output_type": "stream",
     "text": [
      "3.4213    \n"
     ]
    }
   ],
   "source": [
    "# 10 칸을 할당하고 소수점 4자리까지 표기해서 좌측 정렬\n",
    "print(\"%-10.4f\" % 3.42134234)"
   ]
  },
  {
   "cell_type": "markdown",
   "id": "b22a43ff",
   "metadata": {},
   "source": [
    "2) 두 번째 : format() 함수 사용\n",
    "- 포매팅 시 대입 순서 지정\n",
    "- 변수 생성과 동시에 포매팅"
   ]
  },
  {
   "cell_type": "code",
   "execution_count": 56,
   "id": "697f6523",
   "metadata": {},
   "outputs": [
    {
     "name": "stdout",
     "output_type": "stream",
     "text": [
      "11 22 33\n"
     ]
    }
   ],
   "source": [
    "print(\"{} {} {}\".format(11, 22, 33))"
   ]
  },
  {
   "cell_type": "code",
   "execution_count": 57,
   "id": "db7565e5",
   "metadata": {
    "scrolled": true
   },
   "outputs": [
    {
     "name": "stdout",
     "output_type": "stream",
     "text": [
      "three four five\n"
     ]
    }
   ],
   "source": [
    "print(\"{} {} {}\".format(\"three\", \"four\", \"five\"))"
   ]
  },
  {
   "cell_type": "code",
   "execution_count": 58,
   "id": "aaf4eead",
   "metadata": {},
   "outputs": [
    {
     "name": "stdout",
     "output_type": "stream",
     "text": [
      "I ate 3 apples, so I was sick of for three days\n"
     ]
    }
   ],
   "source": [
    "# 변수로 문자열 포매팅\n",
    "number = 3\n",
    "day = \"three\"\n",
    "print(\"I ate {} apples, so I was sick of for {} days\".format(number, day))"
   ]
  },
  {
   "cell_type": "code",
   "execution_count": 59,
   "id": "74e440b3",
   "metadata": {},
   "outputs": [
    {
     "name": "stdout",
     "output_type": "stream",
     "text": [
      "I ate three apples, so I was sick of for 3 days\n"
     ]
    }
   ],
   "source": [
    "# 포매팅 시 대입 순서 지정\n",
    "number = 3\n",
    "day = \"three\"\n",
    "print(\"I ate {1} apples, so I was sick of for {0} days\".format(number, day))"
   ]
  },
  {
   "cell_type": "code",
   "execution_count": 60,
   "id": "ec08ef77",
   "metadata": {},
   "outputs": [
    {
     "name": "stdout",
     "output_type": "stream",
     "text": [
      "I ate 5 apples, so I was sick of for 10 days\n"
     ]
    }
   ],
   "source": [
    "# 변수 생성과 동시에 포매팅 (변수명 지정으로 포매팅)\n",
    "print(\"I ate {day} apples, so I was sick of for {number} days\".format(number=10, day=5))"
   ]
  },
  {
   "cell_type": "code",
   "execution_count": 61,
   "id": "3d0a6606",
   "metadata": {
    "scrolled": true
   },
   "outputs": [
    {
     "ename": "KeyError",
     "evalue": "'day'",
     "output_type": "error",
     "traceback": [
      "\u001b[1;31m---------------------------------------------------------------------------\u001b[0m",
      "\u001b[1;31mKeyError\u001b[0m                                  Traceback (most recent call last)",
      "\u001b[1;32m~\\AppData\\Local\\Temp/ipykernel_7964/1860368935.py\u001b[0m in \u001b[0;36m<module>\u001b[1;34m\u001b[0m\n\u001b[0;32m      2\u001b[0m \u001b[0mnumber\u001b[0m \u001b[1;33m=\u001b[0m \u001b[1;36m3\u001b[0m\u001b[1;33m\u001b[0m\u001b[1;33m\u001b[0m\u001b[0m\n\u001b[0;32m      3\u001b[0m \u001b[0mday\u001b[0m \u001b[1;33m=\u001b[0m \u001b[1;36m2\u001b[0m\u001b[1;33m\u001b[0m\u001b[1;33m\u001b[0m\u001b[0m\n\u001b[1;32m----> 4\u001b[1;33m \u001b[0mprint\u001b[0m\u001b[1;33m(\u001b[0m\u001b[1;34m\"I ate {day} apples, so I was sick of for {number} days\"\u001b[0m\u001b[1;33m.\u001b[0m\u001b[0mformat\u001b[0m\u001b[1;33m(\u001b[0m\u001b[0mnumber\u001b[0m\u001b[1;33m,\u001b[0m \u001b[0mday\u001b[0m\u001b[1;33m)\u001b[0m\u001b[1;33m)\u001b[0m\u001b[1;33m\u001b[0m\u001b[1;33m\u001b[0m\u001b[0m\n\u001b[0m",
      "\u001b[1;31mKeyError\u001b[0m: 'day'"
     ]
    }
   ],
   "source": [
    "# ERROR : 변수명 지정해서 포매팅하는 방식은 format 함수 안에서 변수를 만들어줘야 가능\n",
    "number = 3\n",
    "day = 2\n",
    "print(\"I ate {day} apples, so I was sick of for {number} days\".format(number, day))"
   ]
  },
  {
   "cell_type": "markdown",
   "id": "6d729312",
   "metadata": {},
   "source": [
    "- 좌측 / 우측 정렬"
   ]
  },
  {
   "cell_type": "code",
   "execution_count": 62,
   "id": "4973e45a",
   "metadata": {},
   "outputs": [
    {
     "name": "stdout",
     "output_type": "stream",
     "text": [
      "hi                  \n",
      "hi                  \n"
     ]
    }
   ],
   "source": [
    "# 0부터 19까지 20칸을 생성 후 좌측 정렬 \n",
    "print(\"{0:<20}\".format(\"hi\"))\n",
    "print(\"{:<20}\".format(\"hi\"))"
   ]
  },
  {
   "cell_type": "code",
   "execution_count": 63,
   "id": "586cd902",
   "metadata": {},
   "outputs": [
    {
     "name": "stdout",
     "output_type": "stream",
     "text": [
      "                  hi\n",
      "                  hi\n"
     ]
    }
   ],
   "source": [
    "# 0부터 19까지 20칸을 생성 후 우측 정렬 \n",
    "print(\"{0:>20}\".format(\"hi\"))\n",
    "print(\"{:>20}\".format(\"hi\"))"
   ]
  },
  {
   "cell_type": "markdown",
   "id": "5b567173",
   "metadata": {},
   "source": [
    "- 가운데 정렬"
   ]
  },
  {
   "cell_type": "code",
   "execution_count": 64,
   "id": "654d2d3b",
   "metadata": {
    "scrolled": true
   },
   "outputs": [
    {
     "name": "stdout",
     "output_type": "stream",
     "text": [
      "    hi    \n",
      "    hi    \n"
     ]
    }
   ],
   "source": [
    "# 0부터 9까지 10칸을 생성 후 가운데 정렬\n",
    "print(\"{0:^10}\".format(\"hi\"))\n",
    "print(\"{:^10}\".format(\"hi\"))"
   ]
  },
  {
   "cell_type": "code",
   "execution_count": 65,
   "id": "b8afef6a",
   "metadata": {},
   "outputs": [
    {
     "name": "stdout",
     "output_type": "stream",
     "text": [
      "   hit    \n",
      "   hit    \n"
     ]
    }
   ],
   "source": [
    "# 0부터 9까지 10칸을 생성 후 가운데 정렬\n",
    "print(\"{0:^10}\".format(\"hit\"))\n",
    "print(\"{:^10}\".format(\"hit\"))"
   ]
  },
  {
   "cell_type": "markdown",
   "id": "d0964cac",
   "metadata": {},
   "source": [
    "- 소수점 표현\n",
    " - 소수점 자리를 제한하면 반올림으로 계산하여 출력됨"
   ]
  },
  {
   "cell_type": "code",
   "execution_count": 66,
   "id": "289ad79c",
   "metadata": {
    "scrolled": true
   },
   "outputs": [
    {
     "name": "stdout",
     "output_type": "stream",
     "text": [
      "3.42136234\n"
     ]
    }
   ],
   "source": [
    "print(\"{}\".format(3.42136234))"
   ]
  },
  {
   "cell_type": "code",
   "execution_count": 67,
   "id": "92396766",
   "metadata": {},
   "outputs": [
    {
     "name": "stdout",
     "output_type": "stream",
     "text": [
      "3.4216\n",
      "3.4216\n",
      "3.4216\n",
      "3.4216\n"
     ]
    }
   ],
   "source": [
    "# 소수점 4자리까지 포매팅\n",
    "print(\"{0:0.4f}\".format(3.4216234))\n",
    "print(\"{0:.4f}\".format(3.4216234))\n",
    "print(\"{:0.4f}\".format(3.4216234))\n",
    "print(\"{:.4f}\".format(3.4216234))"
   ]
  },
  {
   "cell_type": "code",
   "execution_count": 68,
   "id": "72830e92",
   "metadata": {},
   "outputs": [
    {
     "name": "stdout",
     "output_type": "stream",
     "text": [
      "    3.4213\n"
     ]
    }
   ],
   "source": [
    "# 10칸 부여 및 우측 정렬 후 소수점 4자리까지 포매팅\n",
    "print(\"{:10.4f}\".format(3.42134234))"
   ]
  },
  {
   "cell_type": "markdown",
   "id": "e1d21029",
   "metadata": {},
   "source": [
    "3) f 문자열 포매팅\n",
    "- 파이썬 3.6 버전부터 사용할 수 있는 최근 포매팅 방식\n",
    "- 괄호 안에서 연산(정수/실수/문자열) 지원"
   ]
  },
  {
   "cell_type": "code",
   "execution_count": 69,
   "id": "055b2e0a",
   "metadata": {},
   "outputs": [
    {
     "name": "stdout",
     "output_type": "stream",
     "text": [
      "나의 이름은 홍길동입니다. 나이는 19입니다.\n"
     ]
    }
   ],
   "source": [
    "name = \"홍길동\"\n",
    "age = 19\n",
    "print(f\"나의 이름은 {name}입니다. 나이는 {age}입니다.\")"
   ]
  },
  {
   "cell_type": "code",
   "execution_count": 70,
   "id": "22ec1773",
   "metadata": {},
   "outputs": [
    {
     "name": "stdout",
     "output_type": "stream",
     "text": [
      "나의 이름은 홍길동입니다. 나이는 20이고, 게임 아이디는 홍길동2022 입니다.\n"
     ]
    }
   ],
   "source": [
    "# 연산 지원\n",
    "name = \"홍길동\"\n",
    "age = 19\n",
    "print(f\"나의 이름은 {name}입니다. 나이는 {age+1}이고, 게임 아이디는 {name+'2022'} 입니다.\")"
   ]
  },
  {
   "cell_type": "markdown",
   "id": "5c6ddfed",
   "metadata": {},
   "source": [
    "- 좌측 / 우측 정렬"
   ]
  },
  {
   "cell_type": "code",
   "execution_count": 71,
   "id": "aaa3e059",
   "metadata": {},
   "outputs": [
    {
     "name": "stdout",
     "output_type": "stream",
     "text": [
      "hi\n"
     ]
    }
   ],
   "source": [
    "print(f'{\"hi\"}')"
   ]
  },
  {
   "cell_type": "code",
   "execution_count": 72,
   "id": "07288950",
   "metadata": {},
   "outputs": [
    {
     "name": "stdout",
     "output_type": "stream",
     "text": [
      "hi        \n"
     ]
    }
   ],
   "source": [
    "# 10칸을 생성 후 좌측 정렬 \n",
    "print(f'{\"hi\":<10}')"
   ]
  },
  {
   "cell_type": "code",
   "execution_count": 73,
   "id": "7d8a7b1a",
   "metadata": {
    "scrolled": true
   },
   "outputs": [
    {
     "name": "stdout",
     "output_type": "stream",
     "text": [
      "        hi\n"
     ]
    }
   ],
   "source": [
    "# 10칸을 생성 후 우측 정렬 \n",
    "print(f'{\"hi\":>10}')"
   ]
  },
  {
   "cell_type": "markdown",
   "id": "21a8e129",
   "metadata": {},
   "source": [
    "- 가운데 정렬"
   ]
  },
  {
   "cell_type": "code",
   "execution_count": 74,
   "id": "45afa2aa",
   "metadata": {},
   "outputs": [
    {
     "name": "stdout",
     "output_type": "stream",
     "text": [
      "    hi    \n"
     ]
    }
   ],
   "source": [
    "# 10칸을 생성 후 가운데 정렬 \n",
    "print(f'{\"hi\":^10}')"
   ]
  },
  {
   "cell_type": "code",
   "execution_count": 75,
   "id": "7f8c0b43",
   "metadata": {},
   "outputs": [
    {
     "name": "stdout",
     "output_type": "stream",
     "text": [
      "   hit    \n"
     ]
    }
   ],
   "source": [
    "# 10칸을 생성 후 가운데 정렬 \n",
    "print(f'{\"hit\":^10}')"
   ]
  },
  {
   "cell_type": "markdown",
   "id": "a6643725",
   "metadata": {},
   "source": [
    "- 소수점 표현\n",
    " - 소수점 자리를 제한하면 반올림으로 계산하여 출력됨"
   ]
  },
  {
   "cell_type": "code",
   "execution_count": 76,
   "id": "07c78758",
   "metadata": {},
   "outputs": [
    {
     "name": "stdout",
     "output_type": "stream",
     "text": [
      "3.42134234\n"
     ]
    }
   ],
   "source": [
    "y = 3.42134234\n",
    "print(f'{y}')"
   ]
  },
  {
   "cell_type": "code",
   "execution_count": 77,
   "id": "9194fdf6",
   "metadata": {},
   "outputs": [
    {
     "name": "stdout",
     "output_type": "stream",
     "text": [
      "3.421\n",
      "3.421\n"
     ]
    }
   ],
   "source": [
    "# 10칸 부여 및 우측 정렬 후 소수점 3자리까지 포매팅\n",
    "print(f'{y:0.3f}')\n",
    "print(f'{y:.3f}')"
   ]
  },
  {
   "cell_type": "code",
   "execution_count": 78,
   "id": "6e7bb21a",
   "metadata": {},
   "outputs": [
    {
     "name": "stdout",
     "output_type": "stream",
     "text": [
      "               3.421\n"
     ]
    }
   ],
   "source": [
    "# 20칸 부여 및 우측 정렬 후 소수점 3자리까지 포매팅\n",
    "print(f'{y:20.3f}')"
   ]
  },
  {
   "cell_type": "code",
   "execution_count": 79,
   "id": "5a1dc22f",
   "metadata": {},
   "outputs": [
    {
     "name": "stdout",
     "output_type": "stream",
     "text": [
      "3.421               \n"
     ]
    }
   ],
   "source": [
    "# 20칸 부여 및 좌측 정렬 후 소수점 3자리까지 포매팅\n",
    "print(f'{y:<20.3f}')"
   ]
  },
  {
   "cell_type": "code",
   "execution_count": 80,
   "id": "d9865405",
   "metadata": {},
   "outputs": [
    {
     "name": "stdout",
     "output_type": "stream",
     "text": [
      "       3.421        \n"
     ]
    }
   ],
   "source": [
    "# 20칸 부여 및 가운데 정렬 후 소수점 3자리까지 포매팅\n",
    "print(f'{y:^20.3f}')"
   ]
  },
  {
   "cell_type": "markdown",
   "id": "131eda05",
   "metadata": {},
   "source": [
    "#### 2.8. 문자열 관련 함수들\n",
    "- 문자열 자료형은 자체적인 함수 보유\n",
    "- 문자열 변수 이름 뒤에 . 을 붙인 후 다음에 함수 이름이 오면 됨\n",
    "- 기존 문자열 변수에 **직접적으로 영향을 주지 X**\n",
    " - 실행 후 기존 문자열 변수 재출력 시 값 그대로 출력\n",
    "- 임시적으로 보여주기 위해 작동하기 때문에 실행 후 **바로 결과 출력**"
   ]
  },
  {
   "cell_type": "markdown",
   "id": "235490e6",
   "metadata": {},
   "source": [
    "1) 특정 문자 갯수 세기 : **count()**"
   ]
  },
  {
   "cell_type": "code",
   "execution_count": 81,
   "id": "2ad08228",
   "metadata": {},
   "outputs": [
    {
     "name": "stdout",
     "output_type": "stream",
     "text": [
      "2\n"
     ]
    }
   ],
   "source": [
    "a = \"hobby\"\n",
    "print(a.count(\"b\"))"
   ]
  },
  {
   "cell_type": "markdown",
   "id": "751c2061",
   "metadata": {},
   "source": [
    "2) 문자 위치 알려주기 1 : **find()**\n",
    "- 찾으려는 문자가 첫 번째로 나타나는 위치를 알려줌\n",
    "- 문자열에 없는 부분을 찾으려고 하면 **-1** 값이 출력\n",
    "- 찾는 데 문제가 있는 경우에도 프로그램을 진행시켜야 하는 경우 사용"
   ]
  },
  {
   "cell_type": "code",
   "execution_count": 82,
   "id": "dc7f7d5d",
   "metadata": {},
   "outputs": [],
   "source": [
    "a = \"Python is the best choice\""
   ]
  },
  {
   "cell_type": "code",
   "execution_count": 92,
   "id": "e545a74b",
   "metadata": {},
   "outputs": [
    {
     "name": "stdout",
     "output_type": "stream",
     "text": [
      "-1\n",
      "-1\n",
      "-1\n"
     ]
    }
   ],
   "source": [
    "print(a.find(\"b\"))\n",
    "print(a.find(\"s\")) # 찾는 문자가 문자열에 여러 개 존재할 때\n",
    "print(a.find(\"k\")) # 없는 문자열 찾을 때"
   ]
  },
  {
   "cell_type": "markdown",
   "id": "323adad8",
   "metadata": {},
   "source": [
    "3) 문자 위치 알려주기 2 : **index()**\n",
    "- 찾으려는 문자가 첫 번째로 나타나는 위치를 알려줌\n",
    "- 문자열에 없는 부분을 찾으려고 하면 **에러** 출력\n",
    "- 찾는 데 문제가 있는 경우 프로그램을 중단시켜야 하는 경우 사용"
   ]
  },
  {
   "cell_type": "code",
   "execution_count": 93,
   "id": "efeb5126",
   "metadata": {},
   "outputs": [],
   "source": [
    "a = \"Python is the best choice\""
   ]
  },
  {
   "cell_type": "code",
   "execution_count": 94,
   "id": "beb17c0a",
   "metadata": {},
   "outputs": [
    {
     "name": "stdout",
     "output_type": "stream",
     "text": [
      "14\n",
      "8\n"
     ]
    }
   ],
   "source": [
    "print(a.index(\"b\"))\n",
    "print(a.index(\"s\")) # 찾는 문자가 문자열에 여러 개 존재할 때"
   ]
  },
  {
   "cell_type": "code",
   "execution_count": 95,
   "id": "dacbbdf4",
   "metadata": {},
   "outputs": [
    {
     "ename": "ValueError",
     "evalue": "substring not found",
     "output_type": "error",
     "traceback": [
      "\u001b[1;31m---------------------------------------------------------------------------\u001b[0m",
      "\u001b[1;31mValueError\u001b[0m                                Traceback (most recent call last)",
      "\u001b[1;32m~\\AppData\\Local\\Temp/ipykernel_7964/945611385.py\u001b[0m in \u001b[0;36m<module>\u001b[1;34m\u001b[0m\n\u001b[0;32m      1\u001b[0m \u001b[1;31m# ERROR : index() 에서 없는 문자열 찾을 때\u001b[0m\u001b[1;33m\u001b[0m\u001b[1;33m\u001b[0m\u001b[0m\n\u001b[1;32m----> 2\u001b[1;33m \u001b[0mprint\u001b[0m\u001b[1;33m(\u001b[0m\u001b[0ma\u001b[0m\u001b[1;33m.\u001b[0m\u001b[0mindex\u001b[0m\u001b[1;33m(\u001b[0m\u001b[1;34m\"k\"\u001b[0m\u001b[1;33m)\u001b[0m\u001b[1;33m)\u001b[0m\u001b[1;33m\u001b[0m\u001b[1;33m\u001b[0m\u001b[0m\n\u001b[0m",
      "\u001b[1;31mValueError\u001b[0m: substring not found"
     ]
    }
   ],
   "source": [
    "# ERROR : index() 에서 없는 문자열 찾을 때\n",
    "print(a.index(\"k\"))"
   ]
  },
  {
   "cell_type": "markdown",
   "id": "cbd292bb",
   "metadata": {},
   "source": [
    "4) 문자열 삽입 : **join()**\n",
    "- 문자열을 함수 괄호 안 문자열의 문자 문자 **사이**에 삽입"
   ]
  },
  {
   "cell_type": "code",
   "execution_count": 96,
   "id": "c50f5588",
   "metadata": {},
   "outputs": [
    {
     "data": {
      "text/plain": [
       "'a.b.c.d'"
      ]
     },
     "execution_count": 96,
     "metadata": {},
     "output_type": "execute_result"
    }
   ],
   "source": [
    "# 문자 삽입\n",
    "a = \".\"\n",
    "a.join(\"abcd\")"
   ]
  },
  {
   "cell_type": "code",
   "execution_count": 97,
   "id": "d4a0f0b7",
   "metadata": {},
   "outputs": [
    {
     "data": {
      "text/plain": [
       "'axybxycxyd'"
      ]
     },
     "execution_count": 97,
     "metadata": {},
     "output_type": "execute_result"
    }
   ],
   "source": [
    "# 문자열 삽입\n",
    "a = \"xy\"\n",
    "a.join(\"abcd\")"
   ]
  },
  {
   "cell_type": "markdown",
   "id": "897c3ef3",
   "metadata": {},
   "source": [
    "5) 소문자를 대문자로 변환 : **upper()**"
   ]
  },
  {
   "cell_type": "code",
   "execution_count": 98,
   "id": "d33edcd1",
   "metadata": {},
   "outputs": [
    {
     "name": "stdout",
     "output_type": "stream",
     "text": [
      "HI\n"
     ]
    }
   ],
   "source": [
    "a = \"hi\"\n",
    "print(a.upper())"
   ]
  },
  {
   "cell_type": "markdown",
   "id": "9a577ad0",
   "metadata": {},
   "source": [
    "6) 대문자를 소문자로 변환 : **lower()**"
   ]
  },
  {
   "cell_type": "code",
   "execution_count": 99,
   "id": "c5b9074d",
   "metadata": {},
   "outputs": [
    {
     "name": "stdout",
     "output_type": "stream",
     "text": [
      "hi\n"
     ]
    }
   ],
   "source": [
    "a = \"HI\"\n",
    "print(a.lower())"
   ]
  },
  {
   "cell_type": "markdown",
   "id": "6656aa47",
   "metadata": {},
   "source": [
    "7) 공백 제거\n",
    "- 왼쪽 공백 제거 : **lstrip()**\n",
    "- 오른쪽 공백 제거 : **rstrip()**\n",
    "- 양쪽 공백 제거 : **strip()**"
   ]
  },
  {
   "cell_type": "code",
   "execution_count": 100,
   "id": "1e7971e2",
   "metadata": {},
   "outputs": [
    {
     "name": "stdout",
     "output_type": "stream",
     "text": [
      "h i  \n",
      "  h i\n",
      "h i\n"
     ]
    }
   ],
   "source": [
    "a = \"  h i  \"\n",
    "print(a.lstrip()) # 왼쪽 공백 제거\n",
    "print(a.rstrip()) # 오른쪽 공백 제거\n",
    "print(a.strip())  # 양쪽 공백 제거"
   ]
  },
  {
   "cell_type": "markdown",
   "id": "bb5e4685",
   "metadata": {},
   "source": [
    "8) 문자열 변경 : **replace()**\n",
    "- 문자열.replace(변경 전 문자열, 변경 후 문자열)\n",
    "- replace() 함수는 변환 용도의 함수로 문자열을 비교해서 변환\n",
    " - 인덱싱은 문자를 찾기 위한 용도이기 때문에 문자열 변환이 불가능"
   ]
  },
  {
   "cell_type": "code",
   "execution_count": 101,
   "id": "ecffa386",
   "metadata": {},
   "outputs": [
    {
     "name": "stdout",
     "output_type": "stream",
     "text": [
      "This pencil is too short\n",
      "Life is too short\n"
     ]
    }
   ],
   "source": [
    "a = \"Life is too short\"\n",
    "print(a.replace(\"Life\", \"This pencil\"))\n",
    "print(a) # a 변수에 변화 있는지 확인"
   ]
  },
  {
   "cell_type": "markdown",
   "id": "0fc872d5",
   "metadata": {},
   "source": [
    "9) 문자열 분할 : **split()**\n",
    "- 문자열.split(분할 기준)\n",
    "- 분할 기준을 지정 안할 경우 기본값 공백 기준으로 분할\n",
    "- 분할된 값들을 **리스트** 형태로 반환"
   ]
  },
  {
   "cell_type": "code",
   "execution_count": 102,
   "id": "57c302ec",
   "metadata": {},
   "outputs": [
    {
     "name": "stdout",
     "output_type": "stream",
     "text": [
      "['Life', 'is', 'too', 'short']\n"
     ]
    }
   ],
   "source": [
    "# 공백 기준 분할\n",
    "a = \"Life is too short\"\n",
    "print(a.split())"
   ]
  },
  {
   "cell_type": "code",
   "execution_count": 103,
   "id": "529cd3e2",
   "metadata": {},
   "outputs": [
    {
     "name": "stdout",
     "output_type": "stream",
     "text": [
      "['a', 'b', 'c', 'd']\n"
     ]
    }
   ],
   "source": [
    "# 콜론(:) 기준 분할\n",
    "b = \"a:b:c:d\"\n",
    "print(b.split(\":\"))"
   ]
  },
  {
   "cell_type": "markdown",
   "id": "6bd37885",
   "metadata": {},
   "source": [
    "### 3. 부울 자료형 (bool)\n",
    "- 참과 거짓을 나타내는 자료형\n",
    " - True : 참\n",
    " - False : 거짓\n",
    "- 참과 거짓을 표현할 때는 반드시 **첫 문자가 대문자**로 시작해야 함"
   ]
  },
  {
   "cell_type": "markdown",
   "id": "80112741",
   "metadata": {},
   "source": [
    "#### 3.1. 부울 자료형 생성"
   ]
  },
  {
   "cell_type": "code",
   "execution_count": 2,
   "id": "80e17059",
   "metadata": {
    "scrolled": true
   },
   "outputs": [
    {
     "name": "stdout",
     "output_type": "stream",
     "text": [
      "<class 'bool'>\n",
      "<class 'bool'>\n"
     ]
    }
   ],
   "source": [
    "a = True\n",
    "b = False\n",
    "print(type(a))  # 변수 a 의 타입 확인\n",
    "print(type(b))  # 변수 b 의 타입 확인"
   ]
  },
  {
   "cell_type": "markdown",
   "id": "5e73c18d",
   "metadata": {},
   "source": [
    "#### 3.2. 부울 자료형의 참과 거짓 판별\n",
    "- 문자열, 리스트, 튜플, 딕셔너리 등에 내용이 있으면 True(참)\n",
    " - \"python\"\n",
    " - [1, 2, 3]\n",
    " - (1, 2, 3)\n",
    " - {'key':'value'}\n",
    " - 1 : True\n",
    "- 문자열, 리스트, 튜플, 딕셔너리 등의 값이 비어있으면 False(거짓)\n",
    " - \"\"\n",
    " - []\n",
    " - ()\n",
    " - {}\n",
    " - 0\n",
    " - None"
   ]
  },
  {
   "cell_type": "markdown",
   "id": "dba23bf5",
   "metadata": {},
   "source": [
    "1) if 문으로 참과 거짓 판단 "
   ]
  },
  {
   "cell_type": "code",
   "execution_count": 5,
   "id": "61fd7c31",
   "metadata": {},
   "outputs": [
    {
     "name": "stdout",
     "output_type": "stream",
     "text": [
      "False\n"
     ]
    }
   ],
   "source": [
    "if []:\n",
    "    print(\"True\")\n",
    "else:\n",
    "    print(\"False\")"
   ]
  },
  {
   "cell_type": "code",
   "execution_count": 6,
   "id": "43f7d576",
   "metadata": {},
   "outputs": [
    {
     "name": "stdout",
     "output_type": "stream",
     "text": [
      "True\n"
     ]
    }
   ],
   "source": [
    "if [1, 2, 3]:\n",
    "    print(\"True\")\n",
    "else:\n",
    "    print(\"False\")"
   ]
  },
  {
   "cell_type": "markdown",
   "id": "97b49f8d",
   "metadata": {},
   "source": [
    "2) bool() 함수를 사용하여 참과 거짓 판단"
   ]
  },
  {
   "cell_type": "code",
   "execution_count": 7,
   "id": "32da7391",
   "metadata": {},
   "outputs": [
    {
     "name": "stdout",
     "output_type": "stream",
     "text": [
      "True\n"
     ]
    }
   ],
   "source": [
    "print(bool(\"python\"))  # python 문자열의 참 거짓 확인"
   ]
  },
  {
   "cell_type": "code",
   "execution_count": 9,
   "id": "7d2ebfbd",
   "metadata": {},
   "outputs": [
    {
     "name": "stdout",
     "output_type": "stream",
     "text": [
      "False\n"
     ]
    }
   ],
   "source": [
    "print(bool(\"\"))       # 빈 문자열의 참 거짓 확인"
   ]
  }
 ],
 "metadata": {
  "kernelspec": {
   "display_name": "Python 3 (ipykernel)",
   "language": "python",
   "name": "python3"
  },
  "language_info": {
   "codemirror_mode": {
    "name": "ipython",
    "version": 3
   },
   "file_extension": ".py",
   "mimetype": "text/x-python",
   "name": "python",
   "nbconvert_exporter": "python",
   "pygments_lexer": "ipython3",
   "version": "3.9.7"
  }
 },
 "nbformat": 4,
 "nbformat_minor": 5
}
